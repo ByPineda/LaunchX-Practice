{
 "cells": [
  {
   "cell_type": "code",
   "execution_count": 6,
   "metadata": {},
   "outputs": [],
   "source": [
    "# Crea un diccionario llamado planet con los datos propuestos\n",
    "planet = {\n",
    "    \"name\" : \"Mars\",\n",
    "    \"moons\" : 12\n",
    "}"
   ]
  },
  {
   "cell_type": "code",
   "execution_count": 7,
   "metadata": {},
   "outputs": [
    {
     "name": "stdout",
     "output_type": "stream",
     "text": [
      "Mars has 12 moons.\n"
     ]
    }
   ],
   "source": [
    "# Muestra el nombre del planeta y el número de lunas que tiene.\n",
    "print(planet[\"name\"],\"has\",planet[\"moons\"],\"moons.\")"
   ]
  },
  {
   "cell_type": "code",
   "execution_count": 8,
   "metadata": {},
   "outputs": [],
   "source": [
    "# Agrega la clave circunferencia con los datos proporcionados previamente\n",
    "\n",
    "planet['circumference (km)'] = {\n",
    "    'polar': 6752,\n",
    "    'equatorial': 6792\n",
    "}"
   ]
  },
  {
   "cell_type": "code",
   "execution_count": 9,
   "metadata": {},
   "outputs": [
    {
     "name": "stdout",
     "output_type": "stream",
     "text": [
      "Mars has a polar diameter of: 6752 and an ecuatorial diameter of: 6792\n"
     ]
    }
   ],
   "source": [
    "# Imprime el nombre del planeta con su circunferencia polar.\n",
    "print(planet[\"name\"],\"has a polar diameter of:\",planet['circumference (km)'][\"polar\"],\"and an ecuatorial diameter of:\",planet['circumference (km)'][\"equatorial\"])"
   ]
  },
  {
   "cell_type": "markdown",
   "metadata": {},
   "source": [
    "# EJERCICIO 2"
   ]
  },
  {
   "cell_type": "code",
   "execution_count": 12,
   "metadata": {},
   "outputs": [],
   "source": [
    "# Planets and moons\n",
    "\n",
    "planet_moons = {\n",
    "    'mercury': 0,\n",
    "    'venus': 0,\n",
    "    'earth': 1,\n",
    "    'mars': 2,\n",
    "    'jupiter': 79,\n",
    "    'saturn': 82,\n",
    "    'uranus': 27,\n",
    "    'neptune': 14,\n",
    "    'pluto': 5,\n",
    "    'haumea': 2,\n",
    "    'makemake': 1,\n",
    "    'eris': 1\n",
    "}"
   ]
  },
  {
   "cell_type": "code",
   "execution_count": 19,
   "metadata": {},
   "outputs": [],
   "source": [
    "# Añade el código para determinar el número de lunas.\n",
    "planets = len(planet_moons.keys())\n",
    "moons = planet_moons.values()"
   ]
  },
  {
   "cell_type": "code",
   "execution_count": 27,
   "metadata": {},
   "outputs": [
    {
     "name": "stdout",
     "output_type": "stream",
     "text": [
      "Our solar system has a total of: 214 moons and an average of: 17.833333333333332 per planet.\n"
     ]
    }
   ],
   "source": [
    "# Agrega el código para contar el número de lunas. \n",
    "total_moons = 0\n",
    "average = 0\n",
    "for moon in moons:\n",
    "    total_moons += moon\n",
    "\n",
    "average = total_moons/planets\n",
    "print(\"Our solar system has a total of:\",total_moons,\"moons and an average of:\",average,\"per planet.\")"
   ]
  }
 ],
 "metadata": {
  "interpreter": {
   "hash": "dda0ab21570dce833aaeb910644a02803c24e5869765398937f61f236ed1a04d"
  },
  "kernelspec": {
   "display_name": "Python 3.10.1 64-bit",
   "language": "python",
   "name": "python3"
  },
  "language_info": {
   "codemirror_mode": {
    "name": "ipython",
    "version": 3
   },
   "file_extension": ".py",
   "mimetype": "text/x-python",
   "name": "python",
   "nbconvert_exporter": "python",
   "pygments_lexer": "ipython3",
   "version": "3.10.1"
  },
  "orig_nbformat": 4
 },
 "nbformat": 4,
 "nbformat_minor": 2
}
