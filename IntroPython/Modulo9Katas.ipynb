{
 "cells": [
  {
   "cell_type": "code",
   "execution_count": 33,
   "metadata": {},
   "outputs": [],
   "source": [
    "# Función para leer 3 tanques de combustible y muestre el promedio\n",
    "# Llamamos a la función que genera el reporte print(funcion(tanque1, tanque2, tanque3))\n",
    "def generar_Reporte(tank1,tank2,tank3):\n",
    "    average = 0; average = (tank1+tank2+tank3)/3\n",
    "    return f\"\"\"\"Reporte de combustible:\n",
    "    Promedio total: {average} litros.\n",
    "    Tanque #1: {tank1} litros.\n",
    "    Tanque #2: {tank2} litros.\n",
    "    Tanque #3: {tank3} litros.\n",
    "\n",
    "    \"\"\""
   ]
  },
  {
   "cell_type": "code",
   "execution_count": 34,
   "metadata": {},
   "outputs": [
    {
     "name": "stdout",
     "output_type": "stream",
     "text": [
      "\"Reporte de combustible:\n",
      "    Promedio total: 53.333333333333336 litros.\n",
      "    Tanque #1: 100 litros.\n",
      "    Tanque #2: 10 litros.\n",
      "    Tanque #3: 50 litros.\n",
      "\n",
      "    \n"
     ]
    }
   ],
   "source": [
    "# Llamamos a la función que genera el reporte print(funcion(tanque1, tanque2, tanque3))\n",
    "print(generar_Reporte(100,10,50))"
   ]
  },
  {
   "cell_type": "code",
   "execution_count": 35,
   "metadata": {},
   "outputs": [],
   "source": [
    "# Función promedio \n",
    "def average(values):\n",
    "    total = sum(values)\n",
    "    number_of_items = len(values)\n",
    "    return total / number_of_items"
   ]
  },
  {
   "cell_type": "code",
   "execution_count": 40,
   "metadata": {},
   "outputs": [
    {
     "name": "stdout",
     "output_type": "stream",
     "text": [
      "\"Reporte de combustible:\n",
      "    Promedio total: 53.333333333333336 litros.\n",
      "    Tanque #1: 100 litros.\n",
      "    Tanque #2: 10 litros.\n",
      "    Tanque #3: 50 litros.\n",
      "\n",
      "    \n"
     ]
    }
   ],
   "source": [
    "def reporte(tank1,tank2,tank3):\n",
    "    return f\"\"\"\"Reporte de combustible:\n",
    "    Promedio total: {average([tank1, tank2, tank3])} litros.\n",
    "    Tanque #1: {tank1} litros.\n",
    "    Tanque #2: {tank2} litros.\n",
    "    Tanque #3: {tank3} litros.\n",
    "\n",
    "    \"\"\"\n",
    "print(reporte(100,10,50))"
   ]
  },
  {
   "cell_type": "markdown",
   "metadata": {},
   "source": [
    "# Ejercicio 2\n"
   ]
  },
  {
   "cell_type": "code",
   "execution_count": 44,
   "metadata": {},
   "outputs": [
    {
     "name": "stdout",
     "output_type": "stream",
     "text": [
      "\n",
      "    Mission to: Mars\n",
      "    Flight time: 110\n",
      "    External tank at: 100%\n",
      "    Internal tank at: 59%\n",
      "    \n"
     ]
    }
   ],
   "source": [
    "# Función con un informe preciso de la misión. Considera hora de prelanzamiento, tiempo de vuelo, destino, tanque externo y tanque interno\n",
    "def pre_launch(preLaunchTime, flighTime, destination, exTank, inTank):\n",
    "    return f\"\"\"\n",
    "    Mission to: {destination}\n",
    "    Flight time: {preLaunchTime + flighTime}\n",
    "    External tank at: {exTank}%\n",
    "    Internal tank at: {inTank}%\n",
    "    \"\"\"\n",
    "print(pre_launch(10,100,\"Mars\",100,59))"
   ]
  },
  {
   "cell_type": "markdown",
   "metadata": {},
   "source": [
    "La función es problemática porque no se puede adaptar para minutos adicionales o tanques adicionales de combustible. Hazlo más flexible permitiendo cualquier número de pasos basados en el tiempo y cualquier número de tanques. En lugar de usar *args y **kwargs, aprovecha el hecho de que puedes usar cualquier nombre que desees. Asegurate que la función sea más legible mediante el uso de nombres de variables que están asociados con las entradas, como *minutes y **fuel_reservoirs:"
   ]
  },
  {
   "cell_type": "code",
   "execution_count": 54,
   "metadata": {},
   "outputs": [],
   "source": [
    "# Escribe tu nueva función de reporte considerando lo anterior\n",
    "def missionReport(destination, *minutes, **fuelTanks):\n",
    "    reporte=f\"\"\"\n",
    "    Mission to: {destination}.\n",
    "    Flight time: {sum(minutes)}. \n",
    "    \"\"\"\n",
    "    for tank, litres in fuelTanks.items():\n",
    "        reporte += f\"{tank} tank with {litres} litres.\\n\"\n",
    "    return reporte\n",
    "        "
   ]
  },
  {
   "cell_type": "code",
   "execution_count": 55,
   "metadata": {},
   "outputs": [
    {
     "name": "stdout",
     "output_type": "stream",
     "text": [
      "\n",
      "    Mission to: Mars.\n",
      "    Flight time: 200. \n",
      "    External tank with 100 litres.\n",
      "Internal tank with 78 litres.\n",
      "Reserve tank with 100 litres.\n",
      "\n"
     ]
    }
   ],
   "source": [
    "print(missionReport(\"Mars\",200,External = 100,Internal = 78,Reserve = 100))"
   ]
  },
  {
   "cell_type": "code",
   "execution_count": null,
   "metadata": {},
   "outputs": [],
   "source": []
  }
 ],
 "metadata": {
  "interpreter": {
   "hash": "dda0ab21570dce833aaeb910644a02803c24e5869765398937f61f236ed1a04d"
  },
  "kernelspec": {
   "display_name": "Python 3.10.1 64-bit",
   "language": "python",
   "name": "python3"
  },
  "language_info": {
   "codemirror_mode": {
    "name": "ipython",
    "version": 3
   },
   "file_extension": ".py",
   "mimetype": "text/x-python",
   "name": "python",
   "nbconvert_exporter": "python",
   "pygments_lexer": "ipython3",
   "version": "3.10.1"
  },
  "orig_nbformat": 4
 },
 "nbformat": 4,
 "nbformat_minor": 2
}
