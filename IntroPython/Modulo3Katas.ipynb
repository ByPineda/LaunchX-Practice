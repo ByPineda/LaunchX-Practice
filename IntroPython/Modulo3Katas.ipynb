{
 "cells": [
  {
   "cell_type": "code",
   "execution_count": 4,
   "metadata": {},
   "outputs": [],
   "source": [
    "#Añadir el código necesario para crear una variable que guarde la velocidad del asteroide.\n",
    "#Escribe una expresión de prueba para calcular si necesita una advertencia.\n",
    "#Agregue las instrucciones que se ejecutarán si la expresión de prueba es true o false.\n",
    "#Un asteroide se acerca, y viaja a una velocidad de 49 km/s.\n",
    "\n"
   ]
  },
  {
   "cell_type": "code",
   "execution_count": 12,
   "metadata": {},
   "outputs": [],
   "source": [
    "velocidad_asteroide = 19000\n",
    "if velocidad_asteroide >= 20000:\n",
    "    if velocidad_asteroide >= 25000:\n",
    "        print(\"ALERTA: ASTEROIDE CON DEMASIADA VELOCIDAD ENTRANDO A LA ATMOSFERA\")\n",
    "    else:\n",
    "        print(\"Look Up!. Un asteroide está pasando por la atmosfera y puedes ver su rayo de luz.\")"
   ]
  },
  {
   "cell_type": "code",
   "execution_count": 11,
   "metadata": {},
   "outputs": [
    {
     "name": "stdout",
     "output_type": "stream",
     "text": [
      "Look Up!. Un asteroide está pasando por la atmosfera y puedes ver su rayo de luz.\n"
     ]
    }
   ],
   "source": [
    "longitud_asteroide = 25\n",
    "velocidad_asteroide = 20000\n",
    "if velocidad_asteroide > 20000 and longitud_asteroide > 25 :\n",
    "    print(\"¡Alerta! Asteroide peligroso entrando a la atmosfera.\")\n",
    "elif velocidad_asteroide >= 20000:\n",
    "    print(\"Look Up!. Un asteroide está pasando por la atmosfera y puedes ver su rayo de luz.\")\n",
    "elif longitud_asteroide < 25:\n",
    "    print(\"*ESTÁTICA*\")\n",
    "else:\n",
    "    print(\"*ESTÁTICA*\")\n",
    "\n"
   ]
  },
  {
   "cell_type": "code",
   "execution_count": null,
   "metadata": {},
   "outputs": [],
   "source": []
  }
 ],
 "metadata": {
  "interpreter": {
   "hash": "dda0ab21570dce833aaeb910644a02803c24e5869765398937f61f236ed1a04d"
  },
  "kernelspec": {
   "display_name": "Python 3.10.1 64-bit",
   "language": "python",
   "name": "python3"
  },
  "language_info": {
   "codemirror_mode": {
    "name": "ipython",
    "version": 3
   },
   "file_extension": ".py",
   "mimetype": "text/x-python",
   "name": "python",
   "nbconvert_exporter": "python",
   "pygments_lexer": "ipython3",
   "version": "3.10.1"
  },
  "orig_nbformat": 4
 },
 "nbformat": 4,
 "nbformat_minor": 2
}
